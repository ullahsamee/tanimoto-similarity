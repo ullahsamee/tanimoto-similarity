{
  "nbformat": 4,
  "nbformat_minor": 0,
  "metadata": {
    "colab": {
      "provenance": [],
      "include_colab_link": true
    },
    "kernelspec": {
      "name": "python3",
      "display_name": "Python 3"
    },
    "language_info": {
      "name": "python"
    }
  },
  "cells": [
    {
      "cell_type": "markdown",
      "metadata": {
        "id": "view-in-github",
        "colab_type": "text"
      },
      "source": [
        "<a href=\"https://colab.research.google.com/github/ullahsamee/tanimoto-similarity/blob/main/Tanimoto_similarity_script.ipynb\" target=\"_parent\"><img src=\"https://colab.research.google.com/assets/colab-badge.svg\" alt=\"Open In Colab\"/></a>"
      ]
    },
    {
      "cell_type": "code",
      "execution_count": null,
      "metadata": {
        "id": "BVNkWaLyi-vX"
      },
      "outputs": [],
      "source": [
        "# Install dependencies\n",
        "!pip install rdkit\n",
        "!pip install pillow\n",
        "!pip install rdkit\n",
        "!pip install numpy\n",
        "!pip install matplotlib\n",
        "\n",
        "# Import required modules\n",
        "from rdkit import Chem\n",
        "from rdkit.Chem import AllChem\n",
        "from rdkit import DataStructs\n",
        "from google.colab import files\n",
        "import matplotlib.pyplot as plt\n",
        "from mpl_toolkits.mplot3d import Axes3D\n",
        "from rdkit.Chem import Draw\n",
        "from IPython.display import display\n",
        "\n",
        "# Upload the file containing SMILES strings\n",
        "uploaded = files.upload()\n",
        "\n",
        "for fn in uploaded.keys():\n",
        "    print(f\"User uploaded file '{fn}' with length {len(uploaded[fn])} bytes\")"
      ]
    },
    {
      "cell_type": "code",
      "source": [
        "\n",
        "\n",
        "# Read the SMILES strings from the uploaded file\n",
        "smiles_list = []\n",
        "with open(fn, 'r') as f:\n",
        "    smiles_list = f.readlines()\n",
        "\n",
        "# Generate fingerprints and 2D molecules for each compound using RDKit\n",
        "fp_list = []\n",
        "mol_list = []\n",
        "for smiles in smiles_list:\n",
        "    mol = Chem.MolFromSmiles(smiles.strip())  # Strip newline characters\n",
        "    if mol is not None:\n",
        "        mol = Chem.AddHs(mol)  # Add hydrogen atoms to the molecule\n",
        "        fp = AllChem.GetMorganFingerprintAsBitVect(mol, 2)\n",
        "        fp_list.append(fp)\n",
        "        mol_list.append(mol)\n",
        "\n",
        "# Initialize the maximum similarity and the indices of the most similar compounds\n",
        "max_sim = 0\n",
        "i_max = 0\n",
        "j_max = 0\n",
        "\n",
        "# Loop over all pairs of fingerprints and calculate the Tanimoto similarity\n",
        "for i in range(len(fp_list)):\n",
        "    for j in range(i+1, len(fp_list)):\n",
        "        sim = DataStructs.TanimotoSimilarity(fp_list[i], fp_list[j])\n",
        "        # Update the maximum similarity and the indices if a higher similarity is found\n",
        "        if sim > max_sim:\n",
        "            max_sim = sim\n",
        "            i_max = i\n",
        "            j_max = j\n",
        "\n",
        "# Print the results\n",
        "print(\"The two most similar compounds are:\")\n",
        "print(smiles_list[i_max])\n",
        "print(smiles_list[j_max])\n",
        "print(\"The Tanimoto similarity score is:\")\n",
        "print(max_sim)\n",
        "\n",
        "# Draw 2D structures of the most similar compounds\n",
        "img = Draw.MolsToGridImage([mol_list[i_max], mol_list[j_max]], molsPerRow=2, subImgSize=(400, 400),\n",
        "                           legends=[smiles_list[i_max].strip(), smiles_list[j_max].strip()], useSVG=True)\n",
        "display(img)\n",
        "\n",
        "# Calculate and plot 3D coordinates of the most similar compounds\n",
        "mol_i = mol_list[i_max]\n",
        "mol_j = mol_list[j_max]\n",
        "\n",
        "AllChem.EmbedMolecule(mol_i)\n",
        "AllChem.EmbedMolecule(mol_j)\n",
        "\n",
        "AllChem.MMFFOptimizeMolecule(mol_i)\n",
        "AllChem.MMFFOptimizeMolecule(mol_j)\n",
        "\n",
        "coords_i = mol_i.GetConformer().GetPositions()\n",
        "coords_j = mol_j.GetConformer().GetPositions()\n",
        "\n",
        "fig = plt.figure(figsize=(8, 6))\n",
        "ax = fig.add_subplot(111, projection='3d')\n",
        "\n",
        "# Set marker size and colors\n",
        "marker_size = 50\n",
        "colors = ['blue', 'red']\n",
        "\n",
        "for i, coords in enumerate([coords_i, coords_j]):\n",
        "    x = [coord[0] for coord in coords]\n",
        "    y = [coord[1] for coord in coords]\n",
        "    z = [coord[2] for coord in coords]\n",
        "\n",
        "    ax.scatter(x, y, z, c=colors[i], s=marker_size, label=f\"Compound {i+1}\")\n",
        "\n",
        "ax.set_xlabel('X')\n",
        "ax.set_ylabel('Y')\n",
        "ax.set_zlabel('Z')\n",
        "ax.set_title('3D Coordinates')\n",
        "ax.legend()\n",
        "\n",
        "# Customize plot style\n",
        "ax.grid(False)\n",
        "ax.xaxis.pane.fill = ax.yaxis.pane.fill = ax.zaxis.pane.fill = False\n",
        "ax.xaxis.pane.set_edgecolor('w')\n",
        "ax.yaxis.pane.set_edgecolor('w')\n",
        "ax.zaxis.pane.set_edgecolor('w')\n",
        "\n",
        "plt.show()\n"
      ],
      "metadata": {
        "id": "EDM1vKhkkVzd"
      },
      "execution_count": null,
      "outputs": []
    }
  ]
}